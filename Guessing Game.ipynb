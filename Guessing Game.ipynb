{
 "cells": [
  {
   "cell_type": "code",
   "execution_count": 1,
   "metadata": {},
   "outputs": [
    {
     "name": "stderr",
     "output_type": "stream",
     "text": [
      "/Users/seantrott/anaconda3/lib/python3.7/site-packages/pandas/compat/_optional.py:138: UserWarning: Pandas requires version '2.7.0' or newer of 'numexpr' (version '2.6.8' currently installed).\n",
      "  warnings.warn(msg, UserWarning)\n"
     ]
    }
   ],
   "source": [
    "import numpy as np\n",
    "import pandas as pd\n",
    "\n",
    "\n",
    "from tqdm import tqdm"
   ]
  },
  {
   "cell_type": "code",
   "execution_count": 29,
   "metadata": {},
   "outputs": [],
   "source": [
    "%matplotlib inline\n",
    "%config InlineBackend.figure_format = 'retina'  # makes figs nicer!"
   ]
  },
  {
   "cell_type": "markdown",
   "metadata": {},
   "source": [
    "## Read in data"
   ]
  },
  {
   "cell_type": "code",
   "execution_count": 2,
   "metadata": {},
   "outputs": [
    {
     "data": {
      "text/plain": [
       "4701"
      ]
     },
     "execution_count": 2,
     "metadata": {},
     "output_type": "execute_result"
    }
   ],
   "source": [
    "df_np = pd.read_csv(\"data/processed/full_nps.csv\")\n",
    "len(df_np)"
   ]
  },
  {
   "cell_type": "code",
   "execution_count": 3,
   "metadata": {},
   "outputs": [
    {
     "data": {
      "text/html": [
       "<div>\n",
       "<style scoped>\n",
       "    .dataframe tbody tr th:only-of-type {\n",
       "        vertical-align: middle;\n",
       "    }\n",
       "\n",
       "    .dataframe tbody tr th {\n",
       "        vertical-align: top;\n",
       "    }\n",
       "\n",
       "    .dataframe thead th {\n",
       "        text-align: right;\n",
       "    }\n",
       "</style>\n",
       "<table border=\"1\" class=\"dataframe\">\n",
       "  <thead>\n",
       "    <tr style=\"text-align: right;\">\n",
       "      <th></th>\n",
       "      <th>Unnamed: 0</th>\n",
       "      <th>ppt_id</th>\n",
       "      <th>head_noun</th>\n",
       "      <th>card</th>\n",
       "      <th>pair_type</th>\n",
       "      <th>trial_result</th>\n",
       "      <th>head_noun_tag</th>\n",
       "      <th>dep</th>\n",
       "      <th>AoA</th>\n",
       "      <th>Conc.M</th>\n",
       "      <th>Dom_Pos</th>\n",
       "      <th>Lg10WF</th>\n",
       "    </tr>\n",
       "  </thead>\n",
       "  <tbody>\n",
       "    <tr>\n",
       "      <th>0</th>\n",
       "      <td>1</td>\n",
       "      <td>83</td>\n",
       "      <td>hands</td>\n",
       "      <td>Nozzle</td>\n",
       "      <td>Friend</td>\n",
       "      <td>Out of time</td>\n",
       "      <td>NNS</td>\n",
       "      <td>dobj</td>\n",
       "      <td>9.32</td>\n",
       "      <td>4.91</td>\n",
       "      <td>Noun</td>\n",
       "      <td>1.3010</td>\n",
       "    </tr>\n",
       "    <tr>\n",
       "      <th>1</th>\n",
       "      <td>2</td>\n",
       "      <td>83</td>\n",
       "      <td>occupation</td>\n",
       "      <td>Job</td>\n",
       "      <td>Friend</td>\n",
       "      <td>Won</td>\n",
       "      <td>NN</td>\n",
       "      <td>ROOT</td>\n",
       "      <td>5.39</td>\n",
       "      <td>3.19</td>\n",
       "      <td>Noun</td>\n",
       "      <td>4.3235</td>\n",
       "    </tr>\n",
       "    <tr>\n",
       "      <th>2</th>\n",
       "      <td>3</td>\n",
       "      <td>83</td>\n",
       "      <td>ocean</td>\n",
       "      <td>Sushi</td>\n",
       "      <td>Friend</td>\n",
       "      <td>Won</td>\n",
       "      <td>NN</td>\n",
       "      <td>pobj</td>\n",
       "      <td>11.19</td>\n",
       "      <td>4.96</td>\n",
       "      <td>Noun</td>\n",
       "      <td>2.3483</td>\n",
       "    </tr>\n",
       "    <tr>\n",
       "      <th>3</th>\n",
       "      <td>4</td>\n",
       "      <td>83</td>\n",
       "      <td>table</td>\n",
       "      <td>Pizza</td>\n",
       "      <td>Friend</td>\n",
       "      <td>Won</td>\n",
       "      <td>NN</td>\n",
       "      <td>pobj</td>\n",
       "      <td>4.67</td>\n",
       "      <td>5.00</td>\n",
       "      <td>Noun</td>\n",
       "      <td>3.2330</td>\n",
       "    </tr>\n",
       "    <tr>\n",
       "      <th>4</th>\n",
       "      <td>5</td>\n",
       "      <td>83</td>\n",
       "      <td>predator</td>\n",
       "      <td>Owl</td>\n",
       "      <td>Friend</td>\n",
       "      <td>Lost</td>\n",
       "      <td>NN</td>\n",
       "      <td>nsubj</td>\n",
       "      <td>6.21</td>\n",
       "      <td>4.93</td>\n",
       "      <td>Noun</td>\n",
       "      <td>2.4579</td>\n",
       "    </tr>\n",
       "  </tbody>\n",
       "</table>\n",
       "</div>"
      ],
      "text/plain": [
       "   Unnamed: 0  ppt_id   head_noun    card pair_type trial_result  \\\n",
       "0           1      83       hands  Nozzle    Friend  Out of time   \n",
       "1           2      83  occupation     Job    Friend          Won   \n",
       "2           3      83       ocean   Sushi    Friend          Won   \n",
       "3           4      83       table   Pizza    Friend          Won   \n",
       "4           5      83    predator     Owl    Friend         Lost   \n",
       "\n",
       "  head_noun_tag    dep    AoA  Conc.M Dom_Pos  Lg10WF  \n",
       "0           NNS   dobj   9.32    4.91    Noun  1.3010  \n",
       "1            NN   ROOT   5.39    3.19    Noun  4.3235  \n",
       "2            NN   pobj  11.19    4.96    Noun  2.3483  \n",
       "3            NN   pobj   4.67    5.00    Noun  3.2330  \n",
       "4            NN  nsubj   6.21    4.93    Noun  2.4579  "
      ]
     },
     "execution_count": 3,
     "metadata": {},
     "output_type": "execute_result"
    }
   ],
   "source": [
    "df_np.head(5)"
   ]
  },
  {
   "cell_type": "code",
   "execution_count": 4,
   "metadata": {},
   "outputs": [
    {
     "data": {
      "text/plain": [
       "0.5624335247819613"
      ]
     },
     "execution_count": 4,
     "metadata": {},
     "output_type": "execute_result"
    }
   ],
   "source": [
    "df_np['success'] = df_np['trial_result'] == \"Won\"\n",
    "df_np['success'].mean()"
   ]
  },
  {
   "cell_type": "code",
   "execution_count": 5,
   "metadata": {},
   "outputs": [
    {
     "data": {
      "text/plain": [
       "4701"
      ]
     },
     "execution_count": 5,
     "metadata": {},
     "output_type": "execute_result"
    }
   ],
   "source": [
    "len(df_np)"
   ]
  },
  {
   "cell_type": "markdown",
   "metadata": {},
   "source": [
    "## Get word embeddings"
   ]
  },
  {
   "cell_type": "code",
   "execution_count": 6,
   "metadata": {},
   "outputs": [],
   "source": [
    "GLOVE_PATH = \"data/lexical_statistics/glove.6B.300d.txt\""
   ]
  },
  {
   "cell_type": "code",
   "execution_count": 7,
   "metadata": {},
   "outputs": [],
   "source": [
    "def compile_glove_dict(path = GLOVE_PATH):\n",
    "\tembeddings_dict = {}\n",
    "\tpbar = tqdm(total = 400000)\n",
    "\twith open(GLOVE_PATH, 'r', encoding=\"utf-8\") as f:\n",
    "\t    for line in f:\n",
    "\t        values = line.split()\n",
    "\t        word = values[0]\n",
    "\t        vector = np.asarray(values[1:], \"float32\")\n",
    "\t        embeddings_dict[word] = vector\n",
    "\n",
    "\t        pbar.update(1)\n",
    "\n",
    "\treturn embeddings_dict"
   ]
  },
  {
   "cell_type": "code",
   "execution_count": 8,
   "metadata": {
    "scrolled": true
   },
   "outputs": [
    {
     "name": "stderr",
     "output_type": "stream",
     "text": [
      "100%|█████████▉| 399472/400000 [00:39<00:00, 10926.58it/s]"
     ]
    }
   ],
   "source": [
    "gd = compile_glove_dict()"
   ]
  },
  {
   "cell_type": "markdown",
   "metadata": {},
   "source": [
    "## Get Lancaster norms"
   ]
  },
  {
   "cell_type": "code",
   "execution_count": 9,
   "metadata": {},
   "outputs": [],
   "source": [
    "df_lancaster = pd.read_csv(\"data/lexical_statistics/lancaster_norms.csv\")\n",
    "df_lancaster['word'] = df_lancaster['Word'].str.lower()"
   ]
  },
  {
   "cell_type": "code",
   "execution_count": 10,
   "metadata": {},
   "outputs": [],
   "source": [
    "LS_COLUMNS = ['Auditory.mean', 'Gustatory.mean', 'Haptic.mean',\n",
    "\t\t   'Interoceptive.mean', 'Olfactory.mean', 'Visual.mean', 'Foot_leg.mean',\n",
    "       'Hand_arm.mean', 'Head.mean', 'Mouth.mean', 'Torso.mean']"
   ]
  },
  {
   "cell_type": "code",
   "execution_count": 11,
   "metadata": {},
   "outputs": [],
   "source": [
    "sm_norms = dict(zip(df_lancaster['word'].values, df_lancaster[LS_COLUMNS].values))"
   ]
  },
  {
   "cell_type": "markdown",
   "metadata": {},
   "source": [
    "## Filter dataframe"
   ]
  },
  {
   "cell_type": "code",
   "execution_count": 12,
   "metadata": {},
   "outputs": [],
   "source": [
    "glove_words = gd.keys()"
   ]
  },
  {
   "cell_type": "code",
   "execution_count": 13,
   "metadata": {},
   "outputs": [
    {
     "data": {
      "text/plain": [
       "4701"
      ]
     },
     "execution_count": 13,
     "metadata": {},
     "output_type": "execute_result"
    }
   ],
   "source": [
    "df_np['target'] = df_np['card'].str.lower()\n",
    "len(df_np)"
   ]
  },
  {
   "cell_type": "code",
   "execution_count": 14,
   "metadata": {},
   "outputs": [
    {
     "data": {
      "text/plain": [
       "4701"
      ]
     },
     "execution_count": 14,
     "metadata": {},
     "output_type": "execute_result"
    },
    {
     "name": "stderr",
     "output_type": "stream",
     "text": [
      "\r",
      "100%|██████████| 400000/400000 [00:50<00:00, 10926.58it/s]"
     ]
    }
   ],
   "source": [
    "df_np_reduced = df_np[df_np['target'].isin(glove_words)]\n",
    "len(df_np_reduced)"
   ]
  },
  {
   "cell_type": "code",
   "execution_count": 15,
   "metadata": {},
   "outputs": [
    {
     "data": {
      "text/plain": [
       "4695"
      ]
     },
     "execution_count": 15,
     "metadata": {},
     "output_type": "execute_result"
    }
   ],
   "source": [
    "df_np_reduced = df_np[df_np['target'].isin(sm_norms.keys())]\n",
    "len(df_np_reduced)"
   ]
  },
  {
   "cell_type": "code",
   "execution_count": 16,
   "metadata": {},
   "outputs": [
    {
     "data": {
      "text/plain": [
       "4671"
      ]
     },
     "execution_count": 16,
     "metadata": {},
     "output_type": "execute_result"
    }
   ],
   "source": [
    "df_np_reduced = df_np_reduced[df_np_reduced['head_noun'].isin(glove_words)]\n",
    "len(df_np_reduced)"
   ]
  },
  {
   "cell_type": "code",
   "execution_count": 17,
   "metadata": {},
   "outputs": [
    {
     "data": {
      "text/plain": [
       "4168"
      ]
     },
     "execution_count": 17,
     "metadata": {},
     "output_type": "execute_result"
    }
   ],
   "source": [
    "df_np_reduced = df_np_reduced[df_np_reduced['head_noun'].isin(sm_norms.keys())]\n",
    "len(df_np_reduced)"
   ]
  },
  {
   "cell_type": "markdown",
   "metadata": {},
   "source": [
    "## Get embeddings for targets"
   ]
  },
  {
   "cell_type": "code",
   "execution_count": 18,
   "metadata": {},
   "outputs": [],
   "source": [
    "target_words = np.array(list(set(df_np_reduced['target'].values)))"
   ]
  },
  {
   "cell_type": "code",
   "execution_count": 19,
   "metadata": {},
   "outputs": [],
   "source": [
    "X_target_gd = []\n",
    "for w in target_words:\n",
    "    X_target_gd.append(gd[w])\n",
    "X_target_gd = np.array(X_target_gd)"
   ]
  },
  {
   "cell_type": "code",
   "execution_count": 20,
   "metadata": {},
   "outputs": [],
   "source": [
    "X_target_sm = []\n",
    "for w in target_words:\n",
    "    X_target_sm.append(sm_norms[w])\n",
    "X_target_sm = np.array(X_target_sm)"
   ]
  },
  {
   "cell_type": "code",
   "execution_count": 21,
   "metadata": {
    "scrolled": true
   },
   "outputs": [
    {
     "data": {
      "text/plain": [
       "415"
      ]
     },
     "execution_count": 21,
     "metadata": {},
     "output_type": "execute_result"
    }
   ],
   "source": [
    "len(target_words)"
   ]
  },
  {
   "cell_type": "code",
   "execution_count": 22,
   "metadata": {},
   "outputs": [
    {
     "data": {
      "text/plain": [
       "415"
      ]
     },
     "execution_count": 22,
     "metadata": {},
     "output_type": "execute_result"
    }
   ],
   "source": [
    "len(X_target_gd)"
   ]
  },
  {
   "cell_type": "code",
   "execution_count": 23,
   "metadata": {},
   "outputs": [
    {
     "data": {
      "text/plain": [
       "415"
      ]
     },
     "execution_count": 23,
     "metadata": {},
     "output_type": "execute_result"
    }
   ],
   "source": [
    "len(X_target_sm)"
   ]
  },
  {
   "cell_type": "markdown",
   "metadata": {},
   "source": [
    "## Embed hints"
   ]
  },
  {
   "cell_type": "code",
   "execution_count": 24,
   "metadata": {},
   "outputs": [],
   "source": [
    "hints = df_np_reduced['head_noun'].values"
   ]
  },
  {
   "cell_type": "code",
   "execution_count": 25,
   "metadata": {},
   "outputs": [],
   "source": [
    "X_hint_gd = []\n",
    "for w in hints:\n",
    "    X_hint_gd.append(gd[w])\n",
    "X_hint_gd = np.array(X_hint_gd)"
   ]
  },
  {
   "cell_type": "code",
   "execution_count": 26,
   "metadata": {},
   "outputs": [],
   "source": [
    "X_hint_sm = []\n",
    "for w in hints:\n",
    "    X_hint_sm.append(sm_norms[w])\n",
    "X_hint_sm = np.array(X_hint_sm)"
   ]
  },
  {
   "cell_type": "code",
   "execution_count": 27,
   "metadata": {},
   "outputs": [
    {
     "data": {
      "text/plain": [
       "4168"
      ]
     },
     "execution_count": 27,
     "metadata": {},
     "output_type": "execute_result"
    }
   ],
   "source": [
    "len(X_hint_gd)"
   ]
  },
  {
   "cell_type": "code",
   "execution_count": 28,
   "metadata": {},
   "outputs": [
    {
     "data": {
      "text/plain": [
       "4168"
      ]
     },
     "execution_count": 28,
     "metadata": {},
     "output_type": "execute_result"
    }
   ],
   "source": [
    "len(X_hint_sm)"
   ]
  },
  {
   "cell_type": "markdown",
   "metadata": {},
   "source": [
    "## Guessing game"
   ]
  },
  {
   "cell_type": "code",
   "execution_count": 30,
   "metadata": {},
   "outputs": [],
   "source": [
    "from scipy.spatial.distance import cdist, cosine"
   ]
  },
  {
   "cell_type": "code",
   "execution_count": 33,
   "metadata": {},
   "outputs": [
    {
     "data": {
      "text/plain": [
       "4168"
      ]
     },
     "execution_count": 33,
     "metadata": {},
     "output_type": "execute_result"
    }
   ],
   "source": [
    "correct_answer = df_np_reduced['target'].values\n",
    "len(correct_answer)"
   ]
  },
  {
   "cell_type": "code",
   "execution_count": 34,
   "metadata": {},
   "outputs": [],
   "source": [
    "success = df_np_reduced['success'].values"
   ]
  },
  {
   "cell_type": "code",
   "execution_count": 35,
   "metadata": {},
   "outputs": [],
   "source": [
    "K = [1, 5, 20, 40, 60, 80, 100]"
   ]
  },
  {
   "cell_type": "code",
   "execution_count": 37,
   "metadata": {},
   "outputs": [
    {
     "name": "stdout",
     "output_type": "stream",
     "text": [
      "Trying 1-nearest neighbors.\n",
      "Trying 5-nearest neighbors.\n",
      "Trying 20-nearest neighbors.\n",
      "Trying 40-nearest neighbors.\n",
      "Trying 60-nearest neighbors.\n",
      "Trying 80-nearest neighbors.\n",
      "Trying 100-nearest neighbors.\n"
     ]
    }
   ],
   "source": [
    "performance = []\n",
    "for k in K:\n",
    "    print(\"Trying {k}-nearest neighbors.\".format(k = k))\n",
    "    for index, _ in enumerate(X_hint_gd):\n",
    "        \n",
    "        ## Actually correct answer\n",
    "        correct_response = correct_answer[index]\n",
    "        \n",
    "        #### First, get Glove performance\n",
    "        vector_gd = X_hint_gd[index]\n",
    "        D_gd = np.array([i[0] for i in cdist(X_target_gd, [vector_gd], metric = \"cosine\")])\n",
    "        smallest_k_indices_gd = np.argpartition(D_gd, k)\n",
    "        # Get guesses\n",
    "        k_guesses_gd = target_words[smallest_k_indices_gd[:k]]\n",
    "        # Correct?\n",
    "        correct_gd = correct_response in k_guesses_gd\n",
    "        \n",
    "        #### Next, get Lancaster performance\n",
    "        vector_sm = X_hint_sm[index]\n",
    "        D_sm = np.array([i[0] for i in cdist(X_target_sm, [vector_sm], metric = \"cosine\")])\n",
    "        smallest_k_indices_sm = np.argpartition(D_sm, k)\n",
    "        # Get guesses\n",
    "        k_guesses_sm = target_words[smallest_k_indices_sm[:k]]\n",
    "        # Correct?\n",
    "        correct_sm = correct_response in k_guesses_sm\n",
    "        \n",
    "\n",
    "        performance.append({\n",
    "            'hint': hints[index],\n",
    "            'target': correct_response,\n",
    "            'correct': correct_gd,\n",
    "            'Model': 'Glove',\n",
    "            # 'correct_sm': correct_sm,\n",
    "            'k': k,\n",
    "            'success': success[index]\n",
    "        })\n",
    "\n",
    "        performance.append({\n",
    "            'hint': hints[index],\n",
    "            'target': correct_response,\n",
    "            'correct': correct_sm,\n",
    "            'Model': 'Lancaster',\n",
    "            # 'correct_sm': correct_sm,\n",
    "            'k': k,\n",
    "            'success': success[index]\n",
    "        })\n",
    "        \n",
    "        performance.append({\n",
    "            'hint': hints[index],\n",
    "            'target': correct_response,\n",
    "            'correct': k/len(target_words),\n",
    "            'Model': 'Random',\n",
    "            # 'correct_sm': correct_sm,\n",
    "            'k': k,\n",
    "            'success': success[index]\n",
    "        })\n",
    "        "
   ]
  },
  {
   "cell_type": "code",
   "execution_count": 38,
   "metadata": {},
   "outputs": [
    {
     "data": {
      "text/plain": [
       "87528"
      ]
     },
     "execution_count": 38,
     "metadata": {},
     "output_type": "execute_result"
    }
   ],
   "source": [
    "df_perf = pd.DataFrame(performance)\n",
    "len(df_perf)"
   ]
  },
  {
   "cell_type": "code",
   "execution_count": 39,
   "metadata": {},
   "outputs": [
    {
     "data": {
      "text/html": [
       "<div>\n",
       "<style scoped>\n",
       "    .dataframe tbody tr th:only-of-type {\n",
       "        vertical-align: middle;\n",
       "    }\n",
       "\n",
       "    .dataframe tbody tr th {\n",
       "        vertical-align: top;\n",
       "    }\n",
       "\n",
       "    .dataframe thead th {\n",
       "        text-align: right;\n",
       "    }\n",
       "</style>\n",
       "<table border=\"1\" class=\"dataframe\">\n",
       "  <thead>\n",
       "    <tr style=\"text-align: right;\">\n",
       "      <th></th>\n",
       "      <th>hint</th>\n",
       "      <th>target</th>\n",
       "      <th>correct</th>\n",
       "      <th>Model</th>\n",
       "      <th>k</th>\n",
       "      <th>success</th>\n",
       "    </tr>\n",
       "  </thead>\n",
       "  <tbody>\n",
       "    <tr>\n",
       "      <th>0</th>\n",
       "      <td>occupation</td>\n",
       "      <td>job</td>\n",
       "      <td>False</td>\n",
       "      <td>Glove</td>\n",
       "      <td>1</td>\n",
       "      <td>True</td>\n",
       "    </tr>\n",
       "    <tr>\n",
       "      <th>1</th>\n",
       "      <td>occupation</td>\n",
       "      <td>job</td>\n",
       "      <td>True</td>\n",
       "      <td>Lancaster</td>\n",
       "      <td>1</td>\n",
       "      <td>True</td>\n",
       "    </tr>\n",
       "    <tr>\n",
       "      <th>2</th>\n",
       "      <td>occupation</td>\n",
       "      <td>job</td>\n",
       "      <td>0.00241</td>\n",
       "      <td>Random</td>\n",
       "      <td>1</td>\n",
       "      <td>True</td>\n",
       "    </tr>\n",
       "    <tr>\n",
       "      <th>3</th>\n",
       "      <td>ocean</td>\n",
       "      <td>sushi</td>\n",
       "      <td>False</td>\n",
       "      <td>Glove</td>\n",
       "      <td>1</td>\n",
       "      <td>True</td>\n",
       "    </tr>\n",
       "    <tr>\n",
       "      <th>4</th>\n",
       "      <td>ocean</td>\n",
       "      <td>sushi</td>\n",
       "      <td>False</td>\n",
       "      <td>Lancaster</td>\n",
       "      <td>1</td>\n",
       "      <td>True</td>\n",
       "    </tr>\n",
       "  </tbody>\n",
       "</table>\n",
       "</div>"
      ],
      "text/plain": [
       "         hint target  correct      Model  k  success\n",
       "0  occupation    job    False      Glove  1     True\n",
       "1  occupation    job     True  Lancaster  1     True\n",
       "2  occupation    job  0.00241     Random  1     True\n",
       "3       ocean  sushi    False      Glove  1     True\n",
       "4       ocean  sushi    False  Lancaster  1     True"
      ]
     },
     "execution_count": 39,
     "metadata": {},
     "output_type": "execute_result"
    }
   ],
   "source": [
    "df_perf.head(5)"
   ]
  },
  {
   "cell_type": "code",
   "execution_count": 40,
   "metadata": {},
   "outputs": [
    {
     "data": {
      "text/plain": [
       "0.5609404990403071"
      ]
     },
     "execution_count": 40,
     "metadata": {},
     "output_type": "execute_result"
    }
   ],
   "source": [
    "df_perf['success'].mean()"
   ]
  },
  {
   "cell_type": "code",
   "execution_count": 41,
   "metadata": {},
   "outputs": [],
   "source": [
    "import seaborn as sns\n",
    "import matplotlib.pyplot as plt"
   ]
  },
  {
   "cell_type": "code",
   "execution_count": 42,
   "metadata": {},
   "outputs": [],
   "source": [
    "random_chance = [k/len(target_words) for k in K]"
   ]
  },
  {
   "cell_type": "code",
   "execution_count": 44,
   "metadata": {},
   "outputs": [
    {
     "data": {
      "image/png": "[encoded data removed]",
      "text/plain": [
       "<Figure size 432x288 with 1 Axes>"
      ]
     },
     "metadata": {
      "image/png": {
       "height": 265,
       "width": 387
      },
      "needs_background": "light"
     },
     "output_type": "display_data"
    }
   ],
   "source": [
    "ax = sns.lineplot(data = df_perf,\n",
    "               x = 'k',\n",
    "               y = 'correct',\n",
    "                hue = 'Model')\n",
    "\n",
    "plt.ylabel(\"Accuracy\")\n",
    "plt.xlabel(\"K (Number of Guesses)\")\n",
    "\n",
    "ax.lines[2].set_linestyle(\"dashed\")\n",
    "\n",
    "plt.axhline(y = df_np['success'].mean(), linestyle = \"dotted\")\n",
    "plt.ylim(0, 1)\n",
    "\n",
    "plt.savefig(\"Figures/guessing/perf.png\", dpi = 300)"
   ]
  },
  {
   "cell_type": "code",
   "execution_count": null,
   "metadata": {},
   "outputs": [],
   "source": []
  }
 ],
 "metadata": {
  "kernelspec": {
   "display_name": "Python 3",
   "language": "python",
   "name": "python3"
  },
  "language_info": {
   "codemirror_mode": {
    "name": "ipython",
    "version": 3
   },
   "file_extension": ".py",
   "mimetype": "text/x-python",
   "name": "python",
   "nbconvert_exporter": "python",
   "pygments_lexer": "ipython3",
   "version": "3.7.1"
  }
 },
 "nbformat": 4,
 "nbformat_minor": 2
}
